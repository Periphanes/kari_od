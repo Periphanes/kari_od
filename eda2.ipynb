{
 "cells": [
  {
   "cell_type": "code",
   "execution_count": 4,
   "metadata": {},
   "outputs": [],
   "source": [
    "import cv2\n",
    "import numpy as np"
   ]
  },
  {
   "cell_type": "code",
   "execution_count": 8,
   "metadata": {},
   "outputs": [],
   "source": [
    "import os\n",
    "import json\n",
    "import math\n",
    "\n",
    "# For container dataset\n",
    "x_dir = '../container_dataset/container_dataset/train_images/'\n",
    "y_dir = '../container_dataset/container_dataset/train_labels/'\n",
    "\n",
    "data = []\n",
    "\n",
    "for filename in os.listdir(y_dir):\n",
    "    f = os.path.join(y_dir, filename)\n",
    "\n",
    "    if not os.path.isfile(f):\n",
    "        continue\n",
    "\n",
    "    label_json = open(f)\n",
    "    label_dict = json.load(label_json)\n",
    "\n",
    "    labels_list = [(i['properties']['object_imcoords'], i['properties']['object_angle']) for i in label_dict['features']]\n",
    "    coord_list = []\n",
    "\n",
    "    for coords, angle in labels_list:\n",
    "        coords = [float(k) for k in coords.split(',')]\n",
    "        # print(coords)\n",
    "\n",
    "        side_len1 = abs(coords[0] - coords[2])**2 + abs(coords[1] - coords[3])**2\n",
    "        side_len1 = math.sqrt(side_len1)\n",
    "        side_len2 = abs(coords[0] - coords[6])**2 + abs(coords[1] - coords[7])**2\n",
    "        side_len2 = math.sqrt(side_len2)\n",
    "\n",
    "        mid_x = (coords[0] + coords[4]) / 2\n",
    "        mid_y = (coords[1] + coords[5]) / 2\n",
    "\n",
    "        coord_list.append((side_len1, side_len2, mid_x, mid_y, angle))\n",
    "\n",
    "    data.append((os.path.join(f), coord_list))"
   ]
  },
  {
   "cell_type": "code",
   "execution_count": null,
   "metadata": {},
   "outputs": [],
   "source": []
  }
 ],
 "metadata": {
  "kernelspec": {
   "display_name": "Python 3",
   "language": "python",
   "name": "python3"
  },
  "language_info": {
   "codemirror_mode": {
    "name": "ipython",
    "version": 3
   },
   "file_extension": ".py",
   "mimetype": "text/x-python",
   "name": "python",
   "nbconvert_exporter": "python",
   "pygments_lexer": "ipython3",
   "version": "3.11.4"
  },
  "orig_nbformat": 4
 },
 "nbformat": 4,
 "nbformat_minor": 2
}
