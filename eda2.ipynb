{
 "cells": [
  {
   "cell_type": "code",
   "execution_count": 12,
   "metadata": {},
   "outputs": [],
   "source": [
    "import cv2\n",
    "import numpy as np\n",
    "import torch\n",
    "import torchvision"
   ]
  },
  {
   "cell_type": "code",
   "execution_count": 13,
   "metadata": {},
   "outputs": [],
   "source": [
    "seed = 1024\n",
    "\n",
    "torch.manual_seed(seed)\n",
    "torch.cuda.manual_seed_all(seed)\n",
    "np.random.seed(seed)\n",
    "random.seed(seed)\n",
    "\n",
    "torch.backends.cudnn.deterministic = True\n",
    "torch.backends.cudnn.benchmark = False"
   ]
  },
  {
   "cell_type": "code",
   "execution_count": 14,
   "metadata": {},
   "outputs": [
    {
     "name": "stdout",
     "output_type": "stream",
     "text": [
      "Device Used : cuda\n"
     ]
    }
   ],
   "source": [
    "batch_size=16\n",
    "if torch.cuda.is_available():\n",
    "    device = torch.device('cuda')\n",
    "else:\n",
    "    device = torch.device('cpu')\n",
    "\n",
    "print(\"Device Used :\", device)"
   ]
  },
  {
   "cell_type": "code",
   "execution_count": 2,
   "metadata": {},
   "outputs": [],
   "source": [
    "import os\n",
    "import json\n",
    "import math\n",
    "\n",
    "# For container dataset\n",
    "x_dir = '../container_dataset/container_dataset/train_images/'\n",
    "y_dir = '../container_dataset/container_dataset/train_labels/'\n",
    "\n",
    "data = []\n",
    "\n",
    "len_list = []\n",
    "size_list = []\n",
    "\n",
    "for filename in os.listdir(y_dir):\n",
    "    f = os.path.join(y_dir, filename)\n",
    "\n",
    "    if not os.path.isfile(f):\n",
    "        continue\n",
    "\n",
    "    label_json = open(f)\n",
    "    label_dict = json.load(label_json)\n",
    "\n",
    "    labels_list = [(i['properties']['object_imcoords'], i['properties']['object_angle']) for i in label_dict['features']]\n",
    "    property_list = []\n",
    "    coords_list = []\n",
    "\n",
    "    for coords, angle in labels_list:\n",
    "        coords = [float(k) for k in coords.split(',')]\n",
    "        # print(coords)\n",
    "\n",
    "        side_len1 = abs(coords[0] - coords[2])**2 + abs(coords[1] - coords[3])**2\n",
    "        side_len1 = math.sqrt(side_len1)\n",
    "        side_len2 = abs(coords[0] - coords[6])**2 + abs(coords[1] - coords[7])**2\n",
    "        side_len2 = math.sqrt(side_len2)\n",
    "\n",
    "        mid_x = (coords[0] + coords[4]) / 2\n",
    "        mid_y = (coords[1] + coords[5]) / 2\n",
    "\n",
    "        property_list.append((side_len1, side_len2, mid_x, mid_y, angle))\n",
    "        coords_list.append(coords)\n",
    "\n",
    "        size_list.append(side_len1 * side_len2)\n",
    "    \n",
    "    len_list.append(len(property_list))\n",
    "\n",
    "    data.append((os.path.join(f), property_list, coords_list))"
   ]
  },
  {
   "cell_type": "code",
   "execution_count": 3,
   "metadata": {},
   "outputs": [
    {
     "data": {
      "image/png": "[encoded data removed]",
      "text/plain": [
       "<Figure size 640x480 with 1 Axes>"
      ]
     },
     "metadata": {},
     "output_type": "display_data"
    }
   ],
   "source": [
    "import matplotlib.pyplot as plt\n",
    "\n",
    "# print(len_list)\n",
    "\n",
    "plt.hist(len_list, bins=30)\n",
    "plt.show()\n",
    "\n",
    "# Number of Objects range up to ~500. Most images have less than 200"
   ]
  },
  {
   "cell_type": "code",
   "execution_count": 4,
   "metadata": {},
   "outputs": [
    {
     "data": {
      "image/png": "[encoded data removed]",
      "text/plain": [
       "<Figure size 640x480 with 1 Axes>"
      ]
     },
     "metadata": {},
     "output_type": "display_data"
    }
   ],
   "source": [
    "plt.hist(size_list, bins=100, range=[0, 10000])\n",
    "plt.show()\n",
    "\n",
    "# Object Size Histogram"
   ]
  },
  {
   "cell_type": "code",
   "execution_count": 5,
   "metadata": {},
   "outputs": [],
   "source": [
    "img_data = []\n",
    "\n",
    "for data_point in data:\n",
    "    tmp_name = (data_point[0][:-4] + 'png').split('/')\n",
    "    tmp_name[-2] = 'train_images'\n",
    "    \n",
    "    filename = '/'.join(tmp_name)\n",
    "    \n",
    "    img_data.append((filename, data_point[1], data_point[2]))"
   ]
  },
  {
   "cell_type": "code",
   "execution_count": 6,
   "metadata": {},
   "outputs": [],
   "source": [
    "class property_Dataset(torch.utils.data.Dataset):\n",
    "    def __init__(self, data):\n",
    "        self._data_list = data\n",
    "    \n",
    "    def __len__(self):\n",
    "        return len(self._data_list)\n",
    "\n",
    "    def __getitem__(self, index):\n",
    "        return (self._data_list[index][0], self._data_list[index][1])\n",
    "    \n",
    "class coords_Dataset(torch.utils.data.Dataset):\n",
    "    def __init__(self, data):\n",
    "        self._data_list = data\n",
    "    \n",
    "    def __len__(self):\n",
    "        return len(self._data_list)\n",
    "    \n",
    "    def __getitem__(self, index):\n",
    "        return (self._data_list[index[0]], self._data_list[index][2])"
   ]
  },
  {
   "cell_type": "code",
   "execution_count": 7,
   "metadata": {},
   "outputs": [
    {
     "name": "stdout",
     "output_type": "stream",
     "text": [
      "Training Data 217 samples initialized...\n",
      "Validation Data 27 samples initialized...\n",
      "Testing Data 28 samples initialized...\n"
     ]
    }
   ],
   "source": [
    "import random\n",
    "\n",
    "random.shuffle(img_data)\n",
    "\n",
    "validation_ratio = 0.1\n",
    "testing_ratio = 0.1\n",
    "\n",
    "data_count = len(img_data)\n",
    "validation_thresh = int(data_count * (1 - (validation_ratio + testing_ratio)))\n",
    "testing_thresh = int(data_count * (1 - testing_ratio))\n",
    "\n",
    "train_data = img_data[:validation_thresh]\n",
    "val_data = img_data[validation_thresh:testing_thresh]\n",
    "test_data = img_data[testing_thresh:]\n",
    "\n",
    "print(\"Training Data\", len(train_data), \"samples initialized...\")\n",
    "print(\"Validation Data\", len(val_data), \"samples initialized...\")\n",
    "print(\"Testing Data\", len(test_data), \"samples initialized...\")"
   ]
  },
  {
   "cell_type": "code",
   "execution_count": 8,
   "metadata": {},
   "outputs": [],
   "source": [
    "data_type = \"property\"\n",
    "\n",
    "if data_type == \"property\":\n",
    "    train_data = property_Dataset(train_data)\n",
    "    val_data = property_Dataset(val_data)\n",
    "    test_data = property_Dataset(test_data)\n",
    "elif data_type == \"coords\":\n",
    "    train_data = coords_Dataset(train_data)\n",
    "    val_data = coords_Dataset(val_data)\n",
    "    test_data = coords_Dataset(test_data)"
   ]
  },
  {
   "cell_type": "code",
   "execution_count": 9,
   "metadata": {},
   "outputs": [],
   "source": [
    "from torchvision import transforms\n",
    "from torchvision.io import read_image\n",
    "\n",
    "# for RGB values\n",
    "def collate_img_notransform(data):\n",
    "    image_batch = []\n",
    "    target_batch = []\n",
    "\n",
    "    for img_path, target in data:\n",
    "        img_path = os.path.join(os.getcwd(), img_path)\n",
    "\n",
    "        if not os.path.exists(img_path):\n",
    "            print(f'no image: {img_path}')\n",
    "            continue\n",
    "        \n",
    "        raw_image = read_image(img_path).to(torch.float)\n",
    "\n",
    "        # print(type(raw_image))\n",
    "        # print(raw_image.shape)\n",
    "\n",
    "        image_preprocess = transforms.Compose([\n",
    "            # transforms.ToTensor(),\n",
    "            transforms.Normalize((0.485, 0.456, 0.406), (0.229, 0.224, 0.225))\n",
    "        ])\n",
    "\n",
    "        image = image_preprocess(raw_image)\n",
    "\n",
    "        image_batch.append(image)\n",
    "\n",
    "        target = [torch.Tensor(t).to(torch.float) for t in target]\n",
    "\n",
    "        target_batch.append(target)\n",
    "\n",
    "        \n",
    "    \n",
    "    images = torch.stack(image_batch)\n",
    "\n",
    "    return images, target_batch"
   ]
  },
  {
   "cell_type": "code",
   "execution_count": 15,
   "metadata": {},
   "outputs": [],
   "source": [
    "train_loader = torch.utils.data.DataLoader(train_data, batch_size=batch_size, drop_last=True, collate_fn=collate_img_notransform)\n",
    "val_loader = torch.utils.data.DataLoader(val_data, batch_size=batch_size, drop_last=True, collate_fn=collate_img_notransform)\n",
    "test_loader = torch.utils.data.DataLoader(test_data, batch_size=batch_size, drop_last=True, collate_fn=collate_img_notransform)"
   ]
  },
  {
   "cell_type": "code",
   "execution_count": null,
   "metadata": {},
   "outputs": [],
   "source": []
  },
  {
   "cell_type": "code",
   "execution_count": null,
   "metadata": {},
   "outputs": [],
   "source": [
    "optimizer = torch.optim.AdamW()\n",
    "scheduler = torch.optim.lr_scheduler.StepLR(opti)"
   ]
  },
  {
   "cell_type": "code",
   "execution_count": 11,
   "metadata": {},
   "outputs": [],
   "source": [
    "for train_batch in train_loader:\n",
    "    train_x, train_y = train_batch\n",
    "    train_x.to(device)\n",
    "    train_y = [[y_var.to(device) for y_var in y_batch_var] for y_batch_var in train_y]"
   ]
  }
 ],
 "metadata": {
  "kernelspec": {
   "display_name": "Python 3",
   "language": "python",
   "name": "python3"
  },
  "language_info": {
   "codemirror_mode": {
    "name": "ipython",
    "version": 3
   },
   "file_extension": ".py",
   "mimetype": "text/x-python",
   "name": "python",
   "nbconvert_exporter": "python",
   "pygments_lexer": "ipython3",
   "version": "3.11.4"
  },
  "orig_nbformat": 4
 },
 "nbformat": 4,
 "nbformat_minor": 2
}
