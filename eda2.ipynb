{
 "cells": [
  {
   "cell_type": "code",
   "execution_count": 12,
   "metadata": {},
   "outputs": [],
   "source": [
    "import cv2\n",
    "import numpy as np"
   ]
  },
  {
   "cell_type": "code",
   "execution_count": 13,
   "metadata": {},
   "outputs": [],
   "source": [
    "import os\n",
    "import json\n",
    "import math\n",
    "\n",
    "# For container dataset\n",
    "x_dir = '../container_dataset/container_dataset/train_images/'\n",
    "y_dir = '../container_dataset/container_dataset/train_labels/'\n",
    "\n",
    "data = []\n",
    "\n",
    "for filename in os.listdir(y_dir):\n",
    "    f = os.path.join(y_dir, filename)\n",
    "\n",
    "    if not os.path.isfile(f):\n",
    "        continue\n",
    "\n",
    "    label_json = open(f)\n",
    "    label_dict = json.load(label_json)\n",
    "\n",
    "    labels_list = [(i['properties']['object_imcoords'], i['properties']['object_angle']) for i in label_dict['features']]\n",
    "    property_list = []\n",
    "    coords_list = []\n",
    "\n",
    "    for coords, angle in labels_list:\n",
    "        coords = [float(k) for k in coords.split(',')]\n",
    "        # print(coords)\n",
    "\n",
    "        side_len1 = abs(coords[0] - coords[2])**2 + abs(coords[1] - coords[3])**2\n",
    "        side_len1 = math.sqrt(side_len1)\n",
    "        side_len2 = abs(coords[0] - coords[6])**2 + abs(coords[1] - coords[7])**2\n",
    "        side_len2 = math.sqrt(side_len2)\n",
    "\n",
    "        mid_x = (coords[0] + coords[4]) / 2\n",
    "        mid_y = (coords[1] + coords[5]) / 2\n",
    "\n",
    "        property_list.append((side_len1, side_len2, mid_x, mid_y, angle))\n",
    "        coords_list.append(coords)\n",
    "\n",
    "    data.append((os.path.join(f), property_list, coords_list))"
   ]
  },
  {
   "cell_type": "code",
   "execution_count": 15,
   "metadata": {},
   "outputs": [],
   "source": [
    "img_data = []\n",
    "\n",
    "for data_point in data:\n",
    "    filename = data_point[0][:-4] + 'png'\n",
    "    img_data.append((filename, data_point[1], data_point[2]))"
   ]
  },
  {
   "cell_type": "code",
   "execution_count": 16,
   "metadata": {},
   "outputs": [],
   "source": [
    "import torch\n",
    "\n",
    "class property_Dataset(torch.utils.data.Dataset):\n",
    "    def __init__(self, data):\n",
    "        self._data_list = data\n",
    "    \n",
    "    def __len__(self):\n",
    "        return len(self._data_list)\n",
    "\n",
    "    def __getitem__(self, index):\n",
    "        return (self._data_list[index][0], self._data_list[index][1])\n",
    "    \n",
    "class coords_Dataset(torch.utils.data.Dataset):\n",
    "    def __init__(self, data):\n",
    "        self._data_list = data\n",
    "    \n",
    "    def __len__(self):\n",
    "        return len(self._data_list)\n",
    "    \n",
    "    def __getitem__(self, index):\n",
    "        return (self._data_list[index[0]], self._data_list[index][2])"
   ]
  },
  {
   "cell_type": "code",
   "execution_count": 17,
   "metadata": {},
   "outputs": [
    {
     "name": "stdout",
     "output_type": "stream",
     "text": [
      "272\n"
     ]
    }
   ],
   "source": [
    "import random\n",
    "\n",
    "random.shuffle(img_data)\n",
    "\n",
    "validation_ratio = 0.1\n",
    "testing_ratio = 0.1\n",
    "\n",
    "data_count = train()"
   ]
  }
 ],
 "metadata": {
  "kernelspec": {
   "display_name": "Python 3",
   "language": "python",
   "name": "python3"
  },
  "language_info": {
   "codemirror_mode": {
    "name": "ipython",
    "version": 3
   },
   "file_extension": ".py",
   "mimetype": "text/x-python",
   "name": "python",
   "nbconvert_exporter": "python",
   "pygments_lexer": "ipython3",
   "version": "3.11.4"
  },
  "orig_nbformat": 4
 },
 "nbformat": 4,
 "nbformat_minor": 2
}
